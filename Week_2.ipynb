{
  "nbformat": 4,
  "nbformat_minor": 0,
  "metadata": {
    "colab": {
      "provenance": [],
      "authorship_tag": "ABX9TyPzehX8gamaAmis24rnJ7rp",
      "include_colab_link": true
    },
    "kernelspec": {
      "name": "python3",
      "display_name": "Python 3"
    },
    "language_info": {
      "name": "python"
    }
  },
  "cells": [
    {
      "cell_type": "markdown",
      "metadata": {
        "id": "view-in-github",
        "colab_type": "text"
      },
      "source": [
        "<a href=\"https://colab.research.google.com/github/NirvikD/DSA-/blob/main/Week_2.ipynb\" target=\"_parent\"><img src=\"https://colab.research.google.com/assets/colab-badge.svg\" alt=\"Open In Colab\"/></a>"
      ]
    },
    {
      "cell_type": "markdown",
      "source": [
        "# Analysis of Algorithms"
      ],
      "metadata": {
        "id": "Bzrn88x496xM"
      }
    },
    {
      "cell_type": "markdown",
      "source": [
        "* Two most impoortant parameters when measuring algorithm performance\n",
        "    * Running time, memory mangement\n",
        "    * We mainly focus on time\n",
        "* Running time t(n) is a function of input size n:--\n",
        "    * Intersested in orders of magnitude\n",
        "    * Asymptomatic complexity as n becomes large\n",
        "* From running time we can estimate feasible input sizes\n",
        "* We focus on worst case inputs:--\n",
        "    * Pessimistic but easier to calculate than average case\n",
        "    * Upper bound on worst case gives us an overall guarantee on performance!"
      ],
      "metadata": {
        "id": "6eph5qOYaEGJ"
      }
    },
    {
      "cell_type": "markdown",
      "source": [
        "## Orders of magnitude"
      ],
      "metadata": {
        "id": "Cg7juiS8eC2u"
      }
    },
    {
      "cell_type": "markdown",
      "source": [
        "### Big O"
      ],
      "metadata": {
        "id": "6lj2-xmgtkCb"
      }
    },
    {
      "cell_type": "markdown",
      "source": [
        "* f(x) is said to be O(g(x)) if we can find constants c and x<sub>0</sub> such that c.g(x) is an upper boud for f(x) for x beyond x<sub>0</sub>\n",
        "* f(x)<=c.g(x) for every x>=x<sub>0</sub>"
      ],
      "metadata": {
        "id": "tHzshsEseHe1"
      }
    },
    {
      "cell_type": "markdown",
      "source": [
        "\n",
        "\n",
        "[Big-O notaition graph](https://examradar.com/wp-content/uploads/2017/02/bigOnatation-1024x692.jpg)\n",
        "\n",
        "In the graphs x is replaced by n and x<sub>0</sub> by n<sub>0</sub>\n",
        "\n",
        "\n",
        "\n"
      ],
      "metadata": {
        "id": "dEGc52Cde5f_"
      }
    },
    {
      "cell_type": "markdown",
      "source": [
        "* When comparing t(n), focus on orders of magnitude\n",
        "    * Ignore the constant factors\n",
        "* f(n) = n<sup>3</sup> eventually grows faster than g(n)= 5000n<sup>2</sup>\n"
      ],
      "metadata": {
        "id": "X2i_MlFW-AcB"
      }
    },
    {
      "cell_type": "markdown",
      "source": [
        "### Upper bounds"
      ],
      "metadata": {
        "id": "fnD9Ls_Pt1Jr"
      }
    },
    {
      "cell_type": "markdown",
      "source": [
        "* f(x) is said to be O(g(x)) if we can find constants c and x<sub>0</sub> such that c.g(x) is an upper boud for f(x) for x beyond x<sub>0</sub>\n",
        "* f(x)<= c.g(x) for every x>=x<sub>0</sub>\n",
        "* Graphs of typical functions ---\n",
        "    [Graphs of various Big O notaiton](https://cdn-media-1.freecodecamp.org/images/1*KfZYFUT2OKfjekJlCeYvuQ.jpeg)\n",
        "\n",
        "\n"
      ],
      "metadata": {
        "id": "2MJ0qDLowX8_"
      }
    },
    {
      "cell_type": "markdown",
      "source": [
        "#### Examples"
      ],
      "metadata": {
        "id": "gRvxR49rwoJ_"
      }
    },
    {
      "cell_type": "markdown",
      "source": [
        "* 100n+5 is O(n<sup>2</sup>)\n",
        "  * 100n+5<=  100n+n = 101n, for n>=5\n",
        "  * 101n<=101n<sup>2</sup>\n",
        "  * Choose n<sub>0</sub> = 5 and c=101\n",
        "\n",
        "  Alternately\n",
        "  * 100n+5 <= 100n+5n=  105n, for n>=1\n",
        "  * 105n<=105n<sup>2</sup>\n",
        "  * Choose n<sub>0</sub>=1 and c=105\n",
        "\n",
        "Thus we can conclude that values of n<sub>0</sub> and c cand be different"
      ],
      "metadata": {
        "id": "h6htcXTawyII"
      }
    },
    {
      "cell_type": "markdown",
      "source": [
        "* 100n<sup>2</sup> +20n+5 is O(n<sup>2</sup>)\n",
        "  * 100n<sup>2</sup>+20n+5<= 100n<sup>2</sup>+20n<sup>2</sup>+5n<sup>2</sup> for n>=1\n",
        "  * 100n<sup>2</sup> +20n+5<= 125n<sup>2</sup> for n>=1\n",
        "  * Choose n<sub>0</sub> = 1, c = 125\n",
        "* What matter is the highest term\n",
        "  * 20n+5 is dominated by 100n<sup>2</sup>\n",
        "  * n<sup>3</sup> is not O(n<sup>2</sup>)\n",
        "    * No matter what c we choose cn<sup>2</sup> will be dominated by n<sup>3</sup> for n>=c.\n",
        "  \n",
        "\n"
      ],
      "metadata": {
        "id": "pcuAbel8yetU"
      }
    },
    {
      "cell_type": "markdown",
      "source": [
        "### Useful properties"
      ],
      "metadata": {
        "id": "pkSCHIBM9GZn"
      }
    },
    {
      "cell_type": "markdown",
      "source": [
        "* If f<sub>1</sub>(n) is O(g<sub>1</sub>(n)) and f<sub>2</sub>(n) is O(g<sub>2</sub>(n)) then f<Sub>1</sub>(n)+ f<sub>2</sub>(n) is O(max(g<sub>1</sub>(n),g<sub>2</sub>(n)))"
      ],
      "metadata": {
        "id": "UC70Wu5O9Ors"
      }
    },
    {
      "cell_type": "markdown",
      "source": [
        "### Calculating time compelxity"
      ],
      "metadata": {
        "id": "M4b4vfZi940j"
      }
    },
    {
      "cell_type": "markdown",
      "source": [
        "**Example 1** Find the max element in the list\n",
        "\n",
        "  * Input size of the list is its length\n",
        "  * Single loop scans all the elements\n",
        "  * Always takes n steps\n",
        "  * Overall time is O(n)\n",
        "\n",
        "\n",
        "```\n",
        "# def maxElemnet(L):\n",
        "  maxval= L[0]\n",
        "  for i in range(len(L)):\n",
        "    if L[i]>maxval:\n",
        "      maxval=  L[i]\n",
        "  return (maxval)\n",
        "```\n",
        "\n",
        "\n",
        "\n",
        "\n",
        "\n"
      ],
      "metadata": {
        "id": "YeTJQMBIGG7a"
      }
    },
    {
      "cell_type": "markdown",
      "source": [
        "**Example 2** Check whether the loop conatins duplicates\n",
        "* Input size is the length of the list\n",
        "* Nested loop scans all pairs of elements\n",
        "* A duplicate may be found n every first iteration\n",
        "* Worst case-- No duplicates found both loops run fully\n",
        "* Time is (n-1)+(n-2)+..+2+1 = n(n+1)/2\n",
        "* Overall time is O(n<sup>2</sup>)\n",
        "\n",
        "\n",
        "```\n",
        "def noDuplicates(L):\n",
        "  for i in range(len(L)):\n",
        "    for j in range(len(L)):\n",
        "      if L[i]==L[j]:\n",
        "        return False\n",
        "  return True\n",
        "\n",
        "```\n",
        "\n"
      ],
      "metadata": {
        "id": "uXxmp2U8HsrU"
      }
    },
    {
      "cell_type": "markdown",
      "source": [
        "**Example 3** Matrix Mutiply\n",
        "* Matrix is represented as list of lists\n",
        "  * [[1,2,3],[4,5,6]]\n",
        "* Input matrices have size m x n ,n x p\n",
        "* Output matrix has size m x p\n",
        "* Three nested loops\n",
        "* Overall time is O(mnp)--- O(n<sup>3</sup>) if both are n x n\n",
        "\n",
        "\n",
        "```\n",
        "def matrixMul(A,B):\n",
        "  (m,n,p) = (len(A),len(B),len(B[0]))\n",
        "  C = [[ 0 for i in range(p)] for j in range(m)]\n",
        "  for i in range(n):\n",
        "    for j in range(p):\n",
        "      for k in range(n):\n",
        "        C[i][j] = C[i][j] + A[i][j] * B[i][j]\n",
        "  return C\n",
        "```\n",
        "\n",
        "\n",
        "\n"
      ],
      "metadata": {
        "id": "LUOPeCi3MAQw"
      }
    },
    {
      "cell_type": "markdown",
      "source": [
        "**Example 4** Number of bits in binary representaion of n\n",
        "* log n steps for n to reach 1\n",
        "* For number theroetic problems inpt size is the number of digits\n",
        "* This algorithm is linear in input size\n",
        "\n",
        "\n",
        "```\n",
        "def numberOfBits(n):\n",
        "    count = 1\n",
        "    while n>1:\n",
        "      count+=1\n",
        "      n=n//2\n",
        "    return count\n",
        "```\n",
        "\n"
      ],
      "metadata": {
        "id": "MSxnEY56Tpwk"
      }
    },
    {
      "cell_type": "markdown",
      "source": [
        "**Example 4** Tower of hanoi\n",
        "* Three towers A,B,C\n",
        "* Move n disks from A to B use C as transport tower\n",
        "* Never put a large disk above small one\n",
        "\n",
        "Recursive solution --\n",
        "* Move n-1 disks from A to C, use B as trannsit\n",
        "* Move largest disk form A to B\n",
        "* Move n-1 disks form C to B use A as transit\n",
        "\n",
        "Reucrence relation --\n",
        "* M(n)-- number of moves to transfer n disks\n",
        "* M(1) = 1\n",
        "* M(n)=  M(n-1)+1+M(n-1)=2m(n-1)+1\n",
        "\n",
        "Unwind and solve --\n",
        "* M(n) = 2M(n-1)+1\n",
        "\n",
        "    = 2(2M(n-2)+1)+1\n",
        "\n",
        "    = 2<sup>2</sup>M(n-2)+(2+1)\n",
        "\n",
        "    = 2<sup>3</sup>M(n-3)+(2<sup>2</sup>+2+1)\n",
        "\n",
        "    ...\n",
        "\n",
        "    = 2<sup>k</sup>M(n-k) + (2<sup>k</sup> - 1)\n",
        "\n",
        "    ...\n",
        "\n",
        "    = 2<sup>n-1</sup>M(1)+(2<sup>n-1</sup> -1)\n",
        "\n",
        "* M(n) = 2<sup>n</sup>-1\n",
        "* Time complexity is O(2<sup>n</sup>)\n",
        "\n",
        "\n",
        "```\n",
        "def TOH(n, source, destination, auxiliary):\n",
        "    # base case\n",
        "    if n == 1:\n",
        "        print(f\"Move disk 1 from {source} to {destination}\")\n",
        "        return\n",
        "    # Recursive call for A to C\n",
        "    TOH(n - 1, source, auxiliary, destination)\n",
        "    # Move largest disk form A to B transport\n",
        "    print(f\"Move disk {n} from {source} to {destination}\")\n",
        "    # Recursive call for B to A trasnport\n",
        "    TOH(n - 1, auxiliary, destination, source)\n",
        "\n",
        "```\n",
        "\n",
        "\n",
        "\n",
        "\n",
        "\n",
        "\n",
        "\n",
        "\n"
      ],
      "metadata": {
        "id": "fUU9ea86Us3K"
      }
    },
    {
      "cell_type": "markdown",
      "source": [
        "**Summary**---\n",
        "* Iterative programs (eg -for,while)\n",
        "  * Focus on loops\n",
        "* Recursive call\n",
        "  * Write and solve a recurrence relation\n"
      ],
      "metadata": {
        "id": "fMujcZkSb8p4"
      }
    },
    {
      "cell_type": "markdown",
      "source": [
        "# Searching in a list\n"
      ],
      "metadata": {
        "id": "aPj32ml8kayO"
      }
    },
    {
      "cell_type": "markdown",
      "source": [
        "* v=  target\n",
        "* l = list"
      ],
      "metadata": {
        "id": "m8rQrDNvW_sG"
      }
    },
    {
      "cell_type": "markdown",
      "source": [
        "## Linear Search"
      ],
      "metadata": {
        "id": "ry0pMU2LkfvW"
      }
    },
    {
      "cell_type": "markdown",
      "source": [
        "\n",
        "* Is value v present in l?\n",
        "* Naive solution scans the list\n",
        "* Input size n, the length of the list\n",
        "* Worst case is when v is not present in l\n",
        "* Time compexity is -- O(n)\n",
        "```\n",
        "def linearSerach(v,l):\n",
        "  for x in l:\n",
        "    if v==x:\n",
        "      return True\n",
        "    return False    \n",
        "```\n",
        "\n",
        "\n"
      ],
      "metadata": {
        "id": "2WdunASckps2"
      }
    },
    {
      "cell_type": "markdown",
      "source": [
        "## Binary Search"
      ],
      "metadata": {
        "id": "mkym3Fjxlzxg"
      }
    },
    {
      "cell_type": "markdown",
      "source": [
        "* **List needs to be sorted**\n",
        "* low  = first element of the list | high = last element of the list\n",
        "* Find the midpoint which will break the list into 2 sublist\n",
        "\n",
        "    1.A sublist that contains the element v\n",
        "\n",
        "    2.A sublist that does not contain v\n",
        "* Compare v with the midpoint of l (let it be mid)\n",
        "    * if mid==v then value is found.\n",
        "    * if mid<v then high = mid-1 | low remains same\n",
        "      * search that sublist.\n",
        "    * if mid>v then low= mid+1 | high remains the same\n",
        "      * search that sublist\n",
        "    * stop the search when the sublist becomes empty\n",
        "      * this indicates that the element is not in the list\n",
        "    \n",
        "\n",
        "```\n",
        "def binarySearch(v,l):\n",
        "  if l==[]:\n",
        "  # Condition when element is not present in the list\n",
        "    return False\n",
        "  mid = len(l)//2\n",
        "  if v==l[mid]:\n",
        "    return True\n",
        "  if v>l[mid]:\n",
        "    return binarySearch(v,l[mid+1:])\n",
        "  else v<l[mid]:\n",
        "    return binarySearch(v,l[:mid])\n",
        "    ''' notice that l[:mid] instead of l[:mid-1] as l[:mid]\n",
        "    will stop at mid-1 only'''\n",
        "```\n",
        "### Time Complexity--\n",
        "* Each time we call the binary search function we divide the list by half\n",
        "* We stop when the value is found or the list is empty\n",
        "* **log n** -- number of times to divide n by 2 to reach 1\n",
        "\n",
        "  * 1//2=0 so the next call reaches empty interval\n",
        "* log n steps\n",
        "* This means time complexity is -- O(log(n))\n",
        "* **Recursive approach**:--\n",
        "  * T(n): time to search the list of length n\n",
        "    * if n=0, we exit so T(n) = 1\n",
        "    * if n>0, T(n) = T(n//2)+1\n",
        "  * By unwinding we solve ---\n",
        "    T(n) = T(n//2)+1\n",
        "\n",
        "      = (T(n//4)+1) +1\n",
        "\n",
        "      ....\n",
        "\n",
        "      = (T(n//2<sup>k</sup>) +k\n",
        "\n",
        "      now we want n//2<sup>k</sup> = 1 so solve\n",
        "\n",
        "      we get k = log(n)\n",
        "\n",
        "    T(n) = 1+ k\n",
        "      = 1+ log(n)\n",
        "\n",
        "    Time complexity is-- O(log(n))\n"
      ],
      "metadata": {
        "id": "_NJrl2qN8FPe"
      }
    },
    {
      "cell_type": "markdown",
      "source": [
        "# Sorting a list"
      ],
      "metadata": {
        "id": "-sOW6t1pV8KG"
      }
    },
    {
      "cell_type": "markdown",
      "source": [
        "* In python we sort list by list.sort() function\n",
        "* It has a time complexity of O(n.log(n))\n"
      ],
      "metadata": {
        "id": "SsKugdUrXOrc"
      }
    }
  ]
}
