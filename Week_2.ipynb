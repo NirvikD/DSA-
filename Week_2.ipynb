{
  "nbformat": 4,
  "nbformat_minor": 0,
  "metadata": {
    "colab": {
      "provenance": [],
      "authorship_tag": "ABX9TyOKTqqH0Mo4YBOCQP7ULAY7",
      "include_colab_link": true
    },
    "kernelspec": {
      "name": "python3",
      "display_name": "Python 3"
    },
    "language_info": {
      "name": "python"
    }
  },
  "cells": [
    {
      "cell_type": "markdown",
      "metadata": {
        "id": "view-in-github",
        "colab_type": "text"
      },
      "source": [
        "<a href=\"https://colab.research.google.com/github/NirvikD/DSA-/blob/main/Week_2.ipynb\" target=\"_parent\"><img src=\"https://colab.research.google.com/assets/colab-badge.svg\" alt=\"Open In Colab\"/></a>"
      ]
    },
    {
      "cell_type": "markdown",
      "source": [
        "# Analysis of Algorithms"
      ],
      "metadata": {
        "id": "Bzrn88x496xM"
      }
    },
    {
      "cell_type": "markdown",
      "source": [
        "* Two most impoortant parameters when measuring algorithm performance\n",
        "    * Running time, memory mangement\n",
        "    * We mainly focus on time\n",
        "* Running time t(n) is a function of input size n:--\n",
        "    * Intersested in orders f magnitude\n",
        "    * Asymptomatic complexity as n becomes large\n",
        "* From running time we can estimate feasible input sizes\n",
        "* We focus on worst case inputs:--\n",
        "    * Pessimistic but easier to calculate than average case\n",
        "    * Upper bound on worst case gives us an overall guarantee on performance!"
      ],
      "metadata": {
        "id": "6eph5qOYaEGJ"
      }
    },
    {
      "cell_type": "markdown",
      "source": [
        "## Orders of magnitude"
      ],
      "metadata": {
        "id": "Cg7juiS8eC2u"
      }
    },
    {
      "cell_type": "markdown",
      "source": [
        "### Big O"
      ],
      "metadata": {
        "id": "6lj2-xmgtkCb"
      }
    },
    {
      "cell_type": "markdown",
      "source": [
        "* f(x) is said to be O(g(x)) if we can find constants c and x<sub>0</sub> such that c.g(x) is an upper boud for f(x) for x beyond x<sub>0</sub>\n",
        "* f(x)<=c.g(x) for every x>=x<sub>0</sub>"
      ],
      "metadata": {
        "id": "tHzshsEseHe1"
      }
    },
    {
      "cell_type": "markdown",
      "source": [
        "\n",
        "\n",
        "[Big-O notaition graph](https://examradar.com/wp-content/uploads/2017/02/bigOnatation-1024x692.jpg)\n",
        "\n",
        "In the graphs x is replaced by n and x<sub>0</sub> by n<sub>0</sub>\n",
        "\n",
        "\n",
        "\n"
      ],
      "metadata": {
        "id": "dEGc52Cde5f_"
      }
    },
    {
      "cell_type": "markdown",
      "source": [
        "* When comparing t(n), focus on orders of magnitude\n",
        "    * Ignore the constant factors\n",
        "* f(n) = n<sup>3</sup> eventually grows faster than g(n)= 5000n<sup>2</sup>\n"
      ],
      "metadata": {
        "id": "X2i_MlFW-AcB"
      }
    },
    {
      "cell_type": "markdown",
      "source": [
        "### Upper bounds"
      ],
      "metadata": {
        "id": "fnD9Ls_Pt1Jr"
      }
    },
    {
      "cell_type": "markdown",
      "source": [
        "* f(x) is said to be O(g(x)) if we can find constants c and x<sub>0</sub> such that c.g(x) is an upper boud for f(x) for x beyond x<sub>0</sub>\n",
        "* f(x)<= c.g(x) for every x>=x<sub>0</sub>\n",
        "* Graphs of typical functions ---\n",
        "    [Graphs of various Big O notaiton](https://cdn-media-1.freecodecamp.org/images/1*KfZYFUT2OKfjekJlCeYvuQ.jpeg)\n",
        "\n",
        "\n"
      ],
      "metadata": {
        "id": "2MJ0qDLowX8_"
      }
    },
    {
      "cell_type": "markdown",
      "source": [
        "#### Examples"
      ],
      "metadata": {
        "id": "gRvxR49rwoJ_"
      }
    },
    {
      "cell_type": "markdown",
      "source": [
        "* 100n+5 is O(n<sup>2</sup>)\n",
        "  * 100n+5<=  100n+n = 101n, for n>=5\n",
        "  * 101n<=101n<sup>2</sup>\n",
        "  * Choose n<sub>0</sub> = 5 and c=101\n",
        "\n",
        "  Alternately\n",
        "  * 100n+5 <= 100n+5n=  105n, for n>=1\n",
        "  * 105n<=105n<sup>2</sup>\n",
        "  * Choose n<sub>0</sub>=1 and c=105\n",
        "\n",
        "Thus we can conclude that values of n<sub>0</sub> and c cand be different"
      ],
      "metadata": {
        "id": "h6htcXTawyII"
      }
    },
    {
      "cell_type": "markdown",
      "source": [
        "* 100n<sup>2</sup> +20n+5 is O(n<sup>2</sup>)\n",
        "  * 100n<sup>2</sup>+20n+5<= 100n<sup>2</sup>+20n<sup>2</sup>+5n<sup>2</sup> for n>=1\n",
        "  * 100n<sup>2</sup> +20n+5<= 125n<sup>2</sup> for n>=1\n",
        "  * Choose n<sub>0</sub> = 1, c = 125\n",
        "* What matter is the highest term\n",
        "  * 20n+5 is dominated by 100n<sup>2</sup>\n",
        "  * n<sup>3</sup> is not O(n<sup>2</sup>)\n",
        "    * No matter what c we choose cn<sup>2</sup> will be dominated by n<sup>3</sup> for n>=c.\n",
        "  \n",
        "\n"
      ],
      "metadata": {
        "id": "pcuAbel8yetU"
      }
    },
    {
      "cell_type": "markdown",
      "source": [
        "### Useful properties"
      ],
      "metadata": {
        "id": "pkSCHIBM9GZn"
      }
    },
    {
      "cell_type": "markdown",
      "source": [
        "* If f<sub>1</sub>(n) is O(g<sub>1</sub>(n)) and f<sub>2</sub>(n) is O(g<sub>2</sub>(n)) then f<Sub>1</sub>(n)+ f<sub>2</sub>(n) is O(max(g<sub>1</sub>(n),g<sub>2</sub>(n)))"
      ],
      "metadata": {
        "id": "UC70Wu5O9Ors"
      }
    },
    {
      "cell_type": "markdown",
      "source": [
        "### Calculating time compelxity"
      ],
      "metadata": {
        "id": "M4b4vfZi940j"
      }
    },
    {
      "cell_type": "markdown",
      "source": [
        "**Example 1** Find the max element in the list\n",
        "\n",
        "  * Input size of the list is its length\n",
        "  * Single loop scans all the elements\n",
        "  * Always takes n steps\n",
        "  * Overall time is O(n)\n",
        "\n",
        "\n",
        "```\n",
        "# def maxElemnet(L):\n",
        "  maxval= L[0]\n",
        "  for i in range(len(L)):\n",
        "    if L[i]>maxval:\n",
        "      maxval=  L[i]\n",
        "  return (maxval)\n",
        "```\n",
        "\n",
        "\n",
        "\n",
        "\n",
        "\n"
      ],
      "metadata": {
        "id": "YeTJQMBIGG7a"
      }
    },
    {
      "cell_type": "markdown",
      "source": [
        "**Example 2** Check whether the loop conatins duplicates\n",
        "* Input size is the length of the list\n",
        "* Nested loop scans all pairs of elements\n",
        "* A duplicate may be found n every first iteration\n",
        "* Worst case-- No duplicates found both loops run fully\n",
        "* Time is (n-1)+(n-2)+..+2+1 = n(n+1)/2\n",
        "* Overall time is O(n<sup>2</sup>)\n",
        "\n",
        "\n",
        "```\n",
        "def noDuplicates(L):\n",
        "  for i in range(len(L)):\n",
        "    for j in range(len(L)):\n",
        "      if L[i]==L[j]:\n",
        "        return False\n",
        "  return True\n",
        "\n",
        "```\n",
        "\n"
      ],
      "metadata": {
        "id": "uXxmp2U8HsrU"
      }
    },
    {
      "cell_type": "markdown",
      "source": [
        "**Example 3** Matrix Mutiply\n",
        "* Matrix is represented as list of lists\n",
        "  * [[1,2,3],[4,5,6]]\n",
        "* Input matrices have size m x n ,n x p\n",
        "* Output matrix has size m x p\n",
        "* Three nested loops\n",
        "* Overall time is O(mnp)--- O(n<sup>3</sup>) if both are n x n\n",
        "\n",
        "\n",
        "```\n",
        "def matrixMul(A,B):\n",
        "  (m,n,p) = (len(A),len(B),len(B[0]))\n",
        "  C = [[ 0 for i in range(p)] for j in range(m)]\n",
        "  for i in range(n):\n",
        "    for j in range(p):\n",
        "      for k in range(n):\n",
        "        C[i][j] = C[i][j] + A[i][j] * B[i][j]\n",
        "  return C\n",
        "```\n",
        "\n",
        "\n",
        "\n"
      ],
      "metadata": {
        "id": "LUOPeCi3MAQw"
      }
    },
    {
      "cell_type": "markdown",
      "source": [
        "**Example 4** Number of bits in binary representaion of n\n",
        "* log n steps for n to reach 1\n",
        "* For number theroetic problems inpt size is the number of digits\n",
        "* This algorithm is linear in input size\n",
        "\n",
        "\n",
        "```\n",
        "def numberOfBits(n):\n",
        "    count = 1\n",
        "    while n>1:\n",
        "      count+=1\n",
        "      n=n//2\n",
        "    return count\n",
        "```\n",
        "\n"
      ],
      "metadata": {
        "id": "MSxnEY56Tpwk"
      }
    },
    {
      "cell_type": "markdown",
      "source": [
        "**Example 4** Tower of hanoi\n",
        "* Three towers A,B,C\n",
        "* Move n disks from A to B use C as transport tower\n",
        "* Never put a large disk above small one\n",
        "\n",
        "Recursive solution --\n",
        "* Move n-1 disks from A to C, use B as trannsit\n",
        "* Move largest disk form A to B\n",
        "* Move n-1 disks form C to B use A as transit\n",
        "\n",
        "Reucrence relation --\n",
        "* M(n)-- number of moves to transfer n disks\n",
        "* M(1) = 1\n",
        "* M(n)=  M(n-1)+1+M(n-1)=2m(n-1)+1\n",
        "\n",
        "Unwind and solve --\n",
        "* M(n) = 2M(n-1)+1\n",
        "\n",
        "    = 2(2M(n-2)+1)+1\n",
        "\n",
        "    = 2<sup>2</sup>M(n-2)+(2+1)\n",
        "\n",
        "    = 2<sup>3</sup>M(n-3)+(2<sup>2</sup>+2+1)\n",
        "\n",
        "    ...\n",
        "\n",
        "    = 2<sup>k</sup>M(n-k) + (2<sup>k</sup> - 1)\n",
        "\n",
        "    ...\n",
        "\n",
        "    = 2<sup>n-1</sup>M(1)+(2<sup>n-1</sup> -1)\n",
        "\n",
        "* M(n) = 2<sup>n</sup>-1\n",
        "* Time complexity is O(2<sup>n</sup>)\n",
        "\n",
        "\n",
        "```\n",
        "def TOH(n, source, destination, auxiliary):\n",
        "    # base case\n",
        "    if n == 1:\n",
        "        print(f\"Move disk 1 from {source} to {destination}\")\n",
        "        return\n",
        "    # Recursive call for A to C\n",
        "    TOH(n - 1, source, auxiliary, destination)\n",
        "    # Move largest disk form A to B transport\n",
        "    print(f\"Move disk {n} from {source} to {destination}\")\n",
        "    # Recursive call for B to A trasnport\n",
        "    TOH(n - 1, auxiliary, destination, source)\n",
        "\n",
        "```\n",
        "\n",
        "\n",
        "\n",
        "\n",
        "\n",
        "\n",
        "\n",
        "\n"
      ],
      "metadata": {
        "id": "fUU9ea86Us3K"
      }
    },
    {
      "cell_type": "markdown",
      "source": [
        "**Summary**---\n",
        "* Iterative programs (eg -for,while)\n",
        "  * Focus on loops\n",
        "* Recursive call\n",
        "  * Write and solve a recurrence relation\n"
      ],
      "metadata": {
        "id": "fMujcZkSb8p4"
      }
    },
    {
      "cell_type": "markdown",
      "source": [
        "# Searching in a list\n"
      ],
      "metadata": {
        "id": "aPj32ml8kayO"
      }
    },
    {
      "cell_type": "markdown",
      "source": [
        "* v=  target\n",
        "* l = list"
      ],
      "metadata": {
        "id": "m8rQrDNvW_sG"
      }
    },
    {
      "cell_type": "markdown",
      "source": [
        "## Linear Search"
      ],
      "metadata": {
        "id": "ry0pMU2LkfvW"
      }
    },
    {
      "cell_type": "markdown",
      "source": [
        "\n",
        "* Is value v present in l?\n",
        "* Naive solution scans the list\n",
        "* Input size n, the length of the list\n",
        "* Worst case is when v is not present in l\n",
        "* Time compexity is -- O(n)\n",
        "```\n",
        "def linearSerach(v,l):\n",
        "  for x in l:\n",
        "    if v==x:\n",
        "      return True\n",
        "    return False    \n",
        "```\n",
        "\n",
        "\n"
      ],
      "metadata": {
        "id": "2WdunASckps2"
      }
    },
    {
      "cell_type": "markdown",
      "source": [
        "## Binary Search"
      ],
      "metadata": {
        "id": "mkym3Fjxlzxg"
      }
    },
    {
      "cell_type": "markdown",
      "source": [
        "* **List needs to be sorted**\n",
        "* low  = first element of the list | high = last element of the list\n",
        "* Find the midpoint which will break the list into 2 sublist\n",
        "\n",
        "    1.A sublist that contains the element v\n",
        "\n",
        "    2.A sublist that does not contain v\n",
        "* Compare v with the midpoint of l (let it be mid)\n",
        "    * if mid==v then value is found.\n",
        "    * if mid<v then high = mid-1 | low remains same\n",
        "      * search that sublist.\n",
        "    * if mid>v then low= mid+1 | high remains the same\n",
        "      * search that sublist\n",
        "    * stop the search when the sublist becomes empty\n",
        "      * this indicates that the element is not in the list\n",
        "    \n",
        "\n",
        "```\n",
        "def binarySearch(v,l):\n",
        "  if l==[]:\n",
        "  # Condition when element is not present in the list\n",
        "    return False\n",
        "  mid = len(l)//2\n",
        "  if v==l[mid]:\n",
        "    return True\n",
        "  if v>l[mid]:\n",
        "    return binarySearch(v,l[mid+1:])\n",
        "  else v<l[mid]:\n",
        "    return binarySearch(v,l[:mid])\n",
        "    ''' notice that l[:mid] instead of l[:mid-1] as l[:mid]\n",
        "    will stop at mid-1 only'''\n",
        "```\n",
        "### Time Complexity--\n",
        "* Each time we call the binary search function we divide the list by half\n",
        "* We stop when the value is found or the list is empty\n",
        "* **log n** -- number of times to divide n by 2 to reach 1\n",
        "\n",
        "  * 1//2=0 so the next call reaches empty interval\n",
        "* log n steps\n",
        "* This means time complexity is -- O(log(n))\n",
        "* **Recursive approach**:--\n",
        "  * T(n): time to search the list of length n\n",
        "    * if n=0, we exit so T(n) = 1\n",
        "    * if n>0, T(n) = T(n//2)+1\n",
        "  * By unwinding we solve ---\n",
        "    T(n) = T(n//2)+1\n",
        "\n",
        "      = (T(n//4)+1) +1\n",
        "\n",
        "      ....\n",
        "\n",
        "      = (T(n//2<sup>k</sup>) +k\n",
        "\n",
        "      now we want n//2<sup>k</sup> = 1 so solve\n",
        "\n",
        "      we get k = log(n)\n",
        "\n",
        "    T(n) = 1+ k\n",
        "      = 1+ log(n)\n",
        "\n",
        "    Time complexity is-- O(log(n))\n"
      ],
      "metadata": {
        "id": "_NJrl2qN8FPe"
      }
    },
    {
      "cell_type": "markdown",
      "source": [
        "# Sorting a list"
      ],
      "metadata": {
        "id": "-sOW6t1pV8KG"
      }
    },
    {
      "cell_type": "markdown",
      "source": [
        "* In python we sort list by list.sort() function\n",
        "* It has a time complexity of O(n.log(n))\n",
        "* Some other method for sorting are :---\n",
        "    * Bubble sort\n",
        "    * Selection sort\n",
        "    * Insertion sort\n",
        "    * Merge sort\n",
        "    * Quick sort\n",
        "    * Radix sort\n",
        "    * Heap sort\n",
        "    \n"
      ],
      "metadata": {
        "id": "SsKugdUrXOrc"
      }
    },
    {
      "cell_type": "markdown",
      "source": [
        "## Bubble sort"
      ],
      "metadata": {
        "id": "miXhHpuDcHM_"
      }
    },
    {
      "cell_type": "markdown",
      "source": [
        "* Starting from the first index, compare the first and the second elements.\n",
        "* If the first element is greater than the second element, they are swapped.\n",
        "* Now, compare the second and the third elements. Swap them if they are not in order.\n",
        "* The above process goes on until the last element.\n"
      ],
      "metadata": {
        "id": "pci47wqGLjo-"
      }
    },
    {
      "cell_type": "markdown",
      "source": [
        "**Bubble Sort algorithm**\n",
        "\n",
        "```\n",
        "bubbleSort(array)\n",
        "  for i <- 1 to indexOfLastUnsortedElement-1\n",
        "    if leftElement > rightElement\n",
        "      swap leftElement and rightElement\n",
        "end bubbleSort\n",
        "```\n",
        "\n"
      ],
      "metadata": {
        "id": "oVQMQPNHOR7Q"
      }
    },
    {
      "cell_type": "code",
      "source": [
        "def bubbleSort(arr):\n",
        "  for i in range(len(arr)):\n",
        "    for j in range(len(arr)-1-i):\n",
        "      if arr[j]>arr[j+1]:\n",
        "        #Swap\n",
        "        temp = arr[j]\n",
        "        arr[j]=arr[j+1]\n",
        "        arr[j+1] = temp\n",
        "arr = list(map(int,input(\"Enter the elements of the list\").split()))\n",
        "bubbleSort(arr)\n",
        "print(f\"Sorted array is {arr}\")"
      ],
      "metadata": {
        "colab": {
          "base_uri": "https://localhost:8080/"
        },
        "id": "7zwqgLqDLpsm",
        "outputId": "4accdf36-125d-4387-cf13-45772e777386"
      },
      "execution_count": null,
      "outputs": [
        {
          "output_type": "stream",
          "name": "stdout",
          "text": [
            "Enter the elements of the list4 5 2 3 13 7 89 34\n",
            "Sorted array is [2, 3, 4, 5, 7, 13, 34, 89]\n"
          ]
        }
      ]
    },
    {
      "cell_type": "markdown",
      "source": [
        "**Time Complexity**--\n",
        "* At PASS 1 --\n",
        "    \n",
        "    * Number of comparisions  = N-1\n",
        "    * Number of swaps = N-1\n",
        "* At PASS 2 --\n",
        "    * Number of comaprisions = N-2\n",
        "    * Number of swaps = N-2\n",
        "* At PASS 3 --\n",
        "    * Number of comparisions  = N-3\n",
        "    * Number of swaps = N-3\n",
        "....\n",
        "\n",
        "* At PASS N-1 --\n",
        "    * Number of comparisons = 1\n",
        "    * Number of swaps = 1\n",
        "* Total number of comparisons =(N-1)+(N-2)+(N-3)+...+1 = N*(N-1)/2\n",
        "* Thus Time complexity will be --- O(n<sup>2</sup>)\n"
      ],
      "metadata": {
        "id": "ISd_mfPvOhdI"
      }
    },
    {
      "cell_type": "markdown",
      "source": [
        "**Optimized Bubble sort**"
      ],
      "metadata": {
        "id": "C_bCElT7bA_Y"
      }
    },
    {
      "cell_type": "markdown",
      "source": [
        "* Optimised bubble sort is used when array is sorted\n",
        "* The time complexity for best case reduces to O(n)\n",
        "* Just introduce a flag variable and set its value to false\n",
        "* When swapping occurs the value will be set to True\n",
        "* If flag remaiuns false then we will break the loop  "
      ],
      "metadata": {
        "id": "Z4pkuGNEbFeT"
      }
    },
    {
      "cell_type": "code",
      "source": [
        "def optbubbleSort(arr):\n",
        "  for i in range(len(arr)):\n",
        "    flag = False\n",
        "    for j in range(len(arr)-1-i):\n",
        "      if arr[j]>arr[j+1]:\n",
        "        #Swap\n",
        "        temp = arr[j]\n",
        "        arr[j]=arr[j+1]\n",
        "        arr[j+1] = temp\n",
        "        flag = True\n",
        "    if flag!=True:\n",
        "      print(\"Array already sorted\")\n",
        "      break\n",
        "arr = [1,2,3,4,5]\n",
        "optbubbleSort(arr)\n",
        "print(arr)"
      ],
      "metadata": {
        "colab": {
          "base_uri": "https://localhost:8080/"
        },
        "id": "_zMA_R3heeC2",
        "outputId": "f2dd696f-7876-467c-fa05-945a0118ccfe"
      },
      "execution_count": null,
      "outputs": [
        {
          "output_type": "stream",
          "name": "stdout",
          "text": [
            "Array already sorted\n",
            "[1, 2, 3, 4, 5]\n"
          ]
        }
      ]
    },
    {
      "cell_type": "markdown",
      "source": [
        "## Selection Sort"
      ],
      "metadata": {
        "id": "q7YzzkTEfsPa"
      }
    },
    {
      "cell_type": "markdown",
      "source": [
        "* Select the next item in sorted order\n",
        "* Append it to the final sorted list\n",
        "* Avoid using a second list\n",
        "    * Swap the min element into the first position\n",
        "    * Swap the second min element into the second position\n",
        "* The list will be rearanged in ascending order\n",
        "\n",
        "\n",
        "```\n",
        "repeat (numOfElements - 1) times\n",
        "\n",
        "  set the first unsorted element as the minimum\n",
        "\n",
        "  for each of the unsorted elements\n",
        "\n",
        "    if element < currentMinimum\n",
        "\n",
        "      set element as new minimum\n",
        "\n",
        "  swap minimum with first unsorted position\n",
        "```\n",
        "\n",
        "\n",
        "\n"
      ],
      "metadata": {
        "id": "u2ULMMelf2kU"
      }
    },
    {
      "cell_type": "code",
      "source": [
        "def selectionSort(L):\n",
        "  n = len(L)\n",
        "  if n<1:\n",
        "    return L\n",
        "  for i in range(n):\n",
        "    # Assume first element is the least element\n",
        "    mpos=  i\n",
        "    # Keep updating mpos\n",
        "    for j in range(i+1,n):\n",
        "      if L[j]<L[mpos]:\n",
        "        mpos = j\n",
        "    (L[i],L[mpos]) = (L[mpos],L[i])\n",
        "  return L\n",
        "arr = list(map(int,input(\"Enter the array elements: \").split()))\n",
        "selectionSort(arr)\n",
        "print(f\"Sorted array is {arr}\")\n",
        "\n",
        "\n"
      ],
      "metadata": {
        "colab": {
          "base_uri": "https://localhost:8080/"
        },
        "id": "CUjFQfXglRZ1",
        "outputId": "8034a07f-073f-4f8d-bac0-7572165305f5"
      },
      "execution_count": null,
      "outputs": [
        {
          "output_type": "stream",
          "name": "stdout",
          "text": [
            "Enter the array elements: 58 32 67 44 3 49 7 21\n",
            "Sorted array is [3, 7, 21, 32, 44, 49, 58, 67]\n"
          ]
        }
      ]
    },
    {
      "cell_type": "markdown",
      "source": [
        "**Time Complexity** --\n",
        "* Time complexity is -- O(n<sup>2</sup>) for every case\n"
      ],
      "metadata": {
        "id": "pj77lBFi0zLK"
      }
    },
    {
      "cell_type": "markdown",
      "source": [
        "## Insertion Sort"
      ],
      "metadata": {
        "id": "rp7yHx931VgD"
      }
    },
    {
      "cell_type": "markdown",
      "source": [
        "* Start buildinfg a new sorted list\n",
        "* Pick the next element and insert i into the sortes list\n",
        "* An iteraive formulation:---\n",
        "    * Assume L[:i] is sorted\n",
        "    * Insert L[i] in L[:i]\n",
        "\n",
        "\n",
        "```\n",
        "mark first element as sorted\n",
        "\n",
        "for each unsorted element X\n",
        "\n",
        "  'extract' the element X\n",
        "\n",
        "  for j = lastSortedIndex down to 0\n",
        "\n",
        "    if current element j > X\n",
        "\n",
        "      move sorted element to the right by 1\n",
        "\n",
        "    break loop and insert X here\n",
        "```\n",
        "\n",
        "\n"
      ],
      "metadata": {
        "id": "dIRLurov1bhR"
      }
    },
    {
      "cell_type": "code",
      "source": [
        "def insertionSort(L):\n",
        "  n = len(L)\n",
        "  if n<1:\n",
        "    return L\n",
        "  for i in range(n):\n",
        "    j=  i\n",
        "    while(j>0 and L[j]<L[j-1]):\n",
        "      (L[j],L[j-1]) = (L[j-1],L[j])\n",
        "      j = j-1\n",
        "  return L\n",
        "arr =list(map(int,input(\"Enter the array elements: \").split()))\n",
        "insertionSort(arr)\n",
        "print(f\"Sorted array is {arr}\")\n",
        "\n",
        "\n"
      ],
      "metadata": {
        "colab": {
          "base_uri": "https://localhost:8080/"
        },
        "id": "Qfe6OnO62WFO",
        "outputId": "7a5b07ab-a276-4e20-fe18-76d575fe16e2"
      },
      "execution_count": null,
      "outputs": [
        {
          "output_type": "stream",
          "name": "stdout",
          "text": [
            "5 6 11 12 13 "
          ]
        }
      ]
    },
    {
      "cell_type": "markdown",
      "source": [
        "We can also do insertion sort by Recursive way\n",
        "A recursive formlation --\n",
        "  * Inductively sort L[:i]\n",
        "  * Insert L[i] in L[:i]\n",
        "  * We wil require two functions Insert and Sort"
      ],
      "metadata": {
        "id": "fjpZnPukUiGW"
      }
    },
    {
      "cell_type": "code",
      "source": [
        "def recursive_insertion_sort(arr, n):\n",
        "    if n <= 1:\n",
        "        return\n",
        "\n",
        "    # Sort the first n-1 elements\n",
        "    recursive_insertion_sort(arr, n - 1)\n",
        "\n",
        "    # Insert the nth element into the sorted part\n",
        "    key = arr[n - 1]\n",
        "    j = n - 2\n",
        "\n",
        "    # Move elements of arr[0..i-1] that are greater than key\n",
        "    # to one position ahead of their current position\n",
        "    while j >= 0 and arr[j] > key:\n",
        "        arr[j + 1] = arr[j]\n",
        "        j -= 1\n",
        "\n",
        "    arr[j + 1] = key\n",
        "\n",
        "# Example usage\n",
        "arr = list(map(int, input(\"Enter the numbers in the array: \").split()))\n",
        "print(\"Original array:\", arr)\n",
        "\n",
        "recursive_insertion_sort(arr, len(arr))\n",
        "\n",
        "print(\"Sorted array:\", arr)\n",
        "\n",
        "\n"
      ],
      "metadata": {
        "colab": {
          "base_uri": "https://localhost:8080/"
        },
        "id": "yNeHnNrYU1ut",
        "outputId": "6559b789-543d-4645-b512-9a82eb4d0847"
      },
      "execution_count": null,
      "outputs": [
        {
          "output_type": "stream",
          "name": "stdout",
          "text": [
            "Enter the numbers in the array: 2 3 56 43 21 45 7 9\n",
            "Original array: [2, 3, 56, 43, 21, 45, 7, 9]\n",
            "Sorted array: [2, 3, 7, 9, 21, 43, 45, 56]\n"
          ]
        }
      ]
    },
    {
      "cell_type": "markdown",
      "source": [
        "**Time Complexity**---\n",
        "* O(n<sup>2</sup>) for worst case and average case\n",
        "* O(n) for best case."
      ],
      "metadata": {
        "id": "gZ5xZIPtCQnu"
      }
    },
    {
      "cell_type": "markdown",
      "source": [],
      "metadata": {
        "id": "NxfONyLRF6qn"
      }
    },
    {
      "cell_type": "markdown",
      "source": [
        "## Merge Sort"
      ],
      "metadata": {
        "id": "sFImqxmrF9ww"
      }
    },
    {
      "cell_type": "markdown",
      "source": [
        "* Both selection and insertion sort use O(n<sup>2</sup>) time complexity\n",
        "* Both are infeasible for n>10000.\n",
        "* How can we bring the complexity below O(n<sup>2</sup>) ?\n",
        "* Divide the list into two halves\n",
        "* Seperately sort  the left and right half\n",
        "* Combine the two sorted halves to get a fully sorted list.\n",
        "    * Compare first elements of A and B\n",
        "    * Move the smaller of the two to 0\n",
        "    * Repeat till you exhaust A and B\n",
        "\n"
      ],
      "metadata": {
        "id": "0CUtUggRGA_k"
      }
    },
    {
      "cell_type": "markdown",
      "source": [
        "* Merging A and B\n",
        "    * Let n be length of L\n",
        "    * Sort A[:n//2]\n",
        "    * Sort A[n//2:]\n",
        "    * Merge the sorted halves into B\n",
        "    * This is an example of Divide and Conquer\n",
        "**Pseudo Code**--\n",
        "\n",
        "\n",
        "```\n",
        "split each element into partitions of size 1\n",
        "\n",
        "recursively merge adjacent partitions\n",
        "\n",
        "  for i = leftPartIdx to rightPartIdx\n",
        "\n",
        "    if leftPartHeadValue <= rightPartHeadValue\n",
        "\n",
        "      copy leftPartHeadValue\n",
        "\n",
        "    else: copy rightPartHeadValue; Increase InvIdx\n",
        "\n",
        "copy elements back to original array\n",
        "```\n",
        "\n"
      ],
      "metadata": {
        "id": "Am5eZLFbL8Kq"
      }
    },
    {
      "cell_type": "code",
      "source": [
        "def merge(A,B):\n",
        "  (m,n) =(len(A),len(B))\n",
        "  (C,i,j,k) = ([],0,0,0)\n",
        "  while k<m+n:\n",
        "    if i==m: # If A is empty\n",
        "      C.extend(B[j:]) # Copy elements of B to C\n",
        "      k = k+(n-j)\n",
        "    elif j==n: # If B is empty\n",
        "      C.extend(A[i:]) # Copy elements of A to C\n",
        "      k= k+(m-i)\n",
        "    elif A[i]<B[j]:\n",
        "      C.append(A[i])\n",
        "      (i,k)= (i+1,k+1)\n",
        "    else:\n",
        "      C.append(B[j])\n",
        "      (j,k)=(j+1,k+1)\n",
        "  return C\n",
        "def mergesort(A):\n",
        "  n=len(A)\n",
        "  if n<=1:\n",
        "    return A\n",
        "  L = mergesort(A[:n//2])\n",
        "  R = mergesort(A[n//2:])\n",
        "  B=  merge(L,R)\n",
        "  return B\n",
        "arr =list(map(int,input(\"Enter the array elements: \").split()))\n",
        "print(f\"Sorted array is {mergesort(arr)}\")"
      ],
      "metadata": {
        "id": "LLe6dJf9htbn",
        "colab": {
          "base_uri": "https://localhost:8080/"
        },
        "outputId": "7e62246b-f125-4797-f39c-3e9410beeb29"
      },
      "execution_count": null,
      "outputs": [
        {
          "output_type": "stream",
          "name": "stdout",
          "text": [
            "Enter the array elements: 77 53 21 13 9 4\n",
            "Sorted array is [4, 9, 13, 21, 53, 77]\n"
          ]
        }
      ]
    },
    {
      "cell_type": "markdown",
      "source": [
        "**Summary**\n",
        "* Mergesort uses divide and conquer to sort a list\n",
        "* Divide the list into two halves\n",
        "* Sort each half\n",
        "* Merge the sorted halves\n",
        "* Next we have to check that complexity is less than O(n<sup>2</sup>)"
      ],
      "metadata": {
        "id": "61fBrvBRQfVM"
      }
    },
    {
      "cell_type": "markdown",
      "source": [
        "### Analysis of merge"
      ],
      "metadata": {
        "id": "_8mfFJvhRArk"
      }
    },
    {
      "cell_type": "markdown",
      "source": [
        "* Merge A of length m and B of length n\n",
        "* Output list C has a length m+n\n",
        "* In each iteration we add one element to C\n",
        "* Hence merge takes time O(m+n).\n",
        "* Recall that m+n<=2(max(m,n))\n",
        "* If m~n merge takes O(n) time."
      ],
      "metadata": {
        "id": "xIbsBev1RF6E"
      }
    },
    {
      "cell_type": "markdown",
      "source": [
        "### Analysis of mergesort"
      ],
      "metadata": {
        "id": "LNRNLJQFciqA"
      }
    },
    {
      "cell_type": "markdown",
      "source": [
        "* Let T(n) be the time taken for input size n\n",
        "  * For simplicity assume n=2<sup>k</sup> for some k\n",
        "* Recurrence--\n",
        "  * T(0) = T(1)=1\n",
        "  * T(n) = 2T(n/2)+n\n",
        "    * Solve two subproblems of size n/2\n",
        "    * Merge the solutions in the time n/2+n/2 = n\n",
        "* Unwind--\n",
        "  * T(n)= 2T(n/2)+n\n",
        "\n",
        "      = 2[2T(n/4)+n/2]+n\n",
        "      \n",
        "      = 2<sup>k</sup>T(n/2<sup>k</sup>)+kn\n",
        "\n",
        "* When k=log(n), T(n/2<sup>k</sup>) = T(1) = 1\n",
        "* T(n)=  n+nlogn\n",
        "\n",
        "Hence T(n) is O(nlogn)"
      ],
      "metadata": {
        "id": "ABlDhQGsdlfD"
      }
    },
    {
      "cell_type": "markdown",
      "source": [
        "**Summary**--\n",
        "* Merge sort takes time O(nlogn) so can be used effectively on large inputs\n",
        "* Variations on merge are possible\n",
        "  * Union of two sorted list -- discard duplicates if A[i]==B[i] move just one copy to C and increment both i and j\n",
        "  * Intersection of two sorted lists when A[i] == B[i], mobe one copy to C otherwise discard the smaller of A[i],B[j]\n",
        "  * Liat the difference - elemnets in A but not in B\n",
        "* Merge needs to create a new list to hold the merged elements\n",
        "  * No obvious way t efficiently merge two lists in place\n",
        "  * Extra storage can be costly\n",
        "* Inherintly recursive"
      ],
      "metadata": {
        "id": "5cu4cj-rnQ6h"
      }
    },
    {
      "cell_type": "markdown",
      "source": [
        "## Quick Sort"
      ],
      "metadata": {
        "id": "UsAlPVRVpQwW"
      }
    },
    {
      "cell_type": "markdown",
      "source": [
        "### Quick sort using recursion"
      ],
      "metadata": {
        "id": "xrA9jekQCK8Q"
      }
    },
    {
      "cell_type": "markdown",
      "source": [
        "* Choose a pivot element\n",
        "\n",
        "* Partioion L into lower and uppr parts with respect to the pivot\n",
        "* Move the pivot between the lower and upper partition\n",
        "* Recursively sort the two partitions"
      ],
      "metadata": {
        "id": "d0ghG3FIpW1m"
      }
    },
    {
      "cell_type": "markdown",
      "source": [
        "**Partitioning strategy**\n",
        "* Scan the list from left ot right\n",
        "* Four segments: Pivot, Lower, Upper,Unclassified\n",
        "* Examine the first unclassified element\n",
        "    * If it is larger than the pivot extend Upper to include this element\n",
        "    * If it is less than or equal to the pivot exchange with the first element in the upper. This extends Lower and shifts Upper by one position.\n",
        "    "
      ],
      "metadata": {
        "id": "j6EsNPqsyZ0J"
      }
    },
    {
      "cell_type": "code",
      "source": [
        "# Python program for implementation of Quicksort Sort\n",
        "\n",
        "# This implementation utilizes pivot as the last element in the nums list\n",
        "# It has a pointer to keep track of the elements smaller than the pivot\n",
        "# At the very end of partition() function, the pointer is swapped with the pivot\n",
        "# to come up with a \"sorted\" nums relative to the pivot\n",
        "\n",
        "\n",
        "# Function to find the partition position\n",
        "def partition(array, low, high):\n",
        "\n",
        "\t# choose the rightmost element as pivot\n",
        "\tpivot = array[high]\n",
        "\n",
        "\t# pointer for greater element\n",
        "\ti = low - 1\n",
        "\n",
        "\t# traverse through all elements\n",
        "\t# compare each element with pivot\n",
        "\tfor j in range(low, high):\n",
        "\t\tif array[j] <= pivot:\n",
        "\n",
        "\t\t\t# If element smaller than pivot is found\n",
        "\t\t\t# swap it with the greater element pointed by i\n",
        "\t\t\ti = i + 1\n",
        "\n",
        "\t\t\t# Swapping element at i with element at j\n",
        "\t\t\t(array[i], array[j]) = (array[j], array[i])\n",
        "\n",
        "\t# Swap the pivot element with the greater element specified by i\n",
        "\t(array[i + 1], array[high]) = (array[high], array[i + 1])\n",
        "\n",
        "\t# Return the position from where partition is done\n",
        "\treturn i + 1\n",
        "\n",
        "# function to perform quicksort\n",
        "\n",
        "\n",
        "def quickSort(array, low, high):\n",
        "\tif low < high:\n",
        "\n",
        "\t\t# Find pivot element such that\n",
        "\t\t# element smaller than pivot are on the left\n",
        "\t\t# element greater than pivot are on the right\n",
        "\t\tpi = partition(array, low, high)\n",
        "\n",
        "\t\t# Recursive call on the left of pivot\n",
        "\t\tquickSort(array, low, pi - 1)\n",
        "\n",
        "\t\t# Recursive call on the right of pivot\n",
        "\t\tquickSort(array, pi + 1, high)\n",
        "\n",
        "\n",
        "data = [9,8,7,6,5,4,3,2,1]\n",
        "print(\"Unsorted Array\")\n",
        "print(data)\n",
        "\n",
        "size = len(data)\n",
        "\n",
        "quickSort(data, 0, size - 1)\n",
        "\n",
        "print('Sorted Array in Ascending Order:')\n",
        "print(data)\n"
      ],
      "metadata": {
        "colab": {
          "base_uri": "https://localhost:8080/"
        },
        "id": "TY_E9GNQ0oqT",
        "outputId": "80a1ff7e-3a7e-4c1d-d3b6-75fa3dd77272"
      },
      "execution_count": null,
      "outputs": [
        {
          "output_type": "stream",
          "name": "stdout",
          "text": [
            "Unsorted Array\n",
            "[9, 8, 7, 6, 5, 4, 3, 2, 1]\n",
            "Sorted Array in Ascending Order:\n",
            "[1, 2, 3, 4, 5, 6, 7, 8, 9]\n"
          ]
        }
      ]
    },
    {
      "cell_type": "markdown",
      "source": [
        "Time complexity is O(nlogn)\n",
        "Space complexity is O(1)"
      ],
      "metadata": {
        "id": "WPVxya9IC0Ks"
      }
    },
    {
      "cell_type": "markdown",
      "source": [
        "### Quick sort using list comprehension"
      ],
      "metadata": {
        "id": "55Ed14hDBxUA"
      }
    },
    {
      "cell_type": "markdown",
      "source": [
        "1.If the input array has length 0 or 1, return the array as it is already sorted.\n",
        "\n",
        "2.Choose the first element of the array as the pivot element.\n",
        "\n",
        "3.Create two empty lists, left and right.\n",
        "\n",
        "4.For each element in the array except for the pivot:\n",
        "a. If the element is smaller than the pivot, add it to the left list.\n",
        "\n",
        "b. If the element is greater than or equal to the pivot, add it to the right list.\n",
        "\n",
        "5.Recursively call quicksort on the left and right lists.\n",
        "\n",
        "6.Concatenate the sorted left list, the pivot element, and the sorted right list.\n",
        "\n",
        "7.Return the concatenated list."
      ],
      "metadata": {
        "id": "XTnTeELqB2VE"
      }
    },
    {
      "cell_type": "code",
      "source": [
        "# Approach 2: Quicksort using list comprehension\n",
        "\n",
        "def quicksort(arr):\n",
        "\tif len(arr) <= 1:\n",
        "\t\treturn arr\n",
        "\telse:\n",
        "\t\tpivot = arr[0]\n",
        "\t\tleft = [x for x in arr[1:] if x < pivot]\n",
        "\t\tright = [x for x in arr[1:] if x >= pivot]\n",
        "\t\treturn quicksort(left) + [pivot] + quicksort(right)\n",
        "\n",
        "# Example usage\n",
        "arr = [1, 7, 4, 1, 10, 9, -2]\n",
        "sorted_arr = quicksort(arr)\n",
        "print(\"Sorted Array in Ascending Order:\")\n",
        "print(sorted_arr)\n"
      ],
      "metadata": {
        "id": "y-Qd61V8CE6e"
      },
      "execution_count": null,
      "outputs": []
    },
    {
      "cell_type": "markdown",
      "source": [
        "Time complexity is O(nlogn)\n",
        "\n",
        "Space complexity is O(n)"
      ],
      "metadata": {
        "id": "H_I-Ai4OCpRM"
      }
    }
  ]
}