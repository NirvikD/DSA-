{
  "nbformat": 4,
  "nbformat_minor": 0,
  "metadata": {
    "colab": {
      "provenance": [],
      "collapsed_sections": [
        "phwPSj4c-b6E",
        "gVrzQnLA-hkF",
        "D5RDjHy1-9WW",
        "AhwTEGftvHh9",
        "zCW80FuIAbLV",
        "t-4ze09z95QF",
        "I1vT0WpZBo5A",
        "2TnW9UohCFz1",
        "stZaO5mquDcN",
        "gfg6BEpOu19U",
        "4VmctJLZd9Hr",
        "_iAJP0nDy2wa"
      ],
      "authorship_tag": "ABX9TyO2zv/KQ1jNrkEpt+JcF12C",
      "include_colab_link": true
    },
    "kernelspec": {
      "name": "python3",
      "display_name": "Python 3"
    },
    "language_info": {
      "name": "python"
    }
  },
  "cells": [
    {
      "cell_type": "markdown",
      "metadata": {
        "id": "view-in-github",
        "colab_type": "text"
      },
      "source": [
        "<a href=\"https://colab.research.google.com/github/NirvikD/Robospeak/blob/main/Week_1.ipynb\" target=\"_parent\"><img src=\"https://colab.research.google.com/assets/colab-badge.svg\" alt=\"Open In Colab\"/></a>"
      ]
    },
    {
      "cell_type": "markdown",
      "source": [
        "#**GCD**"
      ],
      "metadata": {
        "id": "oDbBOPmH9mtk"
      }
    },
    {
      "cell_type": "markdown",
      "source": [
        "##1.Using list"
      ],
      "metadata": {
        "id": "phwPSj4c-b6E"
      }
    },
    {
      "cell_type": "code",
      "source": [
        "def gcd(a,b):\n",
        "  lst =[]\n",
        "  for i in range(1,min(a,b)+1):\n",
        "    if a%i==0 and b%i==0:\n",
        "      lst.append(i)\n",
        "  return lst[-1]\n"
      ],
      "metadata": {
        "id": "-ye-7Df79_iF"
      },
      "execution_count": null,
      "outputs": []
    },
    {
      "cell_type": "markdown",
      "source": [
        "##2.Using latest value"
      ],
      "metadata": {
        "id": "gVrzQnLA-hkF"
      }
    },
    {
      "cell_type": "code",
      "source": [
        "def gcd(a,b):\n",
        "  for i in range(1,min(a,b)+1):\n",
        "    if a%i==0 and b%i==0:\n",
        "      mrcp = i\n",
        "    return mrcp"
      ],
      "metadata": {
        "id": "xvHHVRSx-Zal"
      },
      "execution_count": null,
      "outputs": []
    },
    {
      "cell_type": "markdown",
      "source": [
        "##3.Using recursion"
      ],
      "metadata": {
        "id": "D5RDjHy1-9WW"
      }
    },
    {
      "cell_type": "code",
      "source": [
        "def gcd(a, b):\n",
        "   if a == b:\n",
        "      return a\n",
        "   elif a < b:\n",
        "      return gcd(b, a)\n",
        "   else:\n",
        "      return gcd(b, a - b)"
      ],
      "metadata": {
        "id": "17Q4v-MX_fKO"
      },
      "execution_count": null,
      "outputs": []
    },
    {
      "cell_type": "markdown",
      "source": [
        "## 4.Using Euclid's algorithm\n"
      ],
      "metadata": {
        "id": "AhwTEGftvHh9"
      }
    },
    {
      "cell_type": "markdown",
      "source": [
        "\n",
        "**PseudoCode**\n",
        "```\n",
        "function euclidean_algorithm(a, b):\n",
        "    while b ≠ 0:\n",
        "        remainder = a % b\n",
        "        a = b\n",
        "        b = remainder\n",
        "    \n",
        "    return a\n",
        "\n",
        "```\n",
        "**gcd(a, b) = gcd(b,a%b)** This is the main formula\n",
        "\n",
        "**Base case**-- When a%b==0 return the last non zero remainder as GCD\n",
        "\n",
        "\n"
      ],
      "metadata": {
        "id": "AUx13Y0NxRPA"
      }
    },
    {
      "cell_type": "code",
      "source": [
        "def gcd(a,b):\n",
        "  (a,b) =(max(a,b),min(a,b))\n",
        "  if a%b==0:\n",
        "    return b\n",
        "  else:\n",
        "    return gcd(b,a%b)"
      ],
      "metadata": {
        "id": "sVoaB6duvSbu"
      },
      "execution_count": null,
      "outputs": []
    },
    {
      "cell_type": "markdown",
      "source": [
        "##Main Function"
      ],
      "metadata": {
        "id": "zCW80FuIAbLV"
      }
    },
    {
      "cell_type": "code",
      "source": [
        "i,j=  map(int,input(\"Enter the values:\").split())\n",
        "v =gcd(i,j)\n",
        "print(v)\n"
      ],
      "metadata": {
        "colab": {
          "base_uri": "https://localhost:8080/"
        },
        "id": "CMhYC0dVAfmN",
        "outputId": "82932ab7-7bb6-42b7-ed14-0d82d81c3b8a"
      },
      "execution_count": null,
      "outputs": [
        {
          "output_type": "stream",
          "name": "stdout",
          "text": [
            "Enter the values:807 481\n",
            "1\n"
          ]
        }
      ]
    },
    {
      "cell_type": "markdown",
      "source": [
        "# Prime Numbers"
      ],
      "metadata": {
        "id": "t-4ze09z95QF"
      }
    },
    {
      "cell_type": "markdown",
      "source": [
        "## 1.Determine the function s prime or not"
      ],
      "metadata": {
        "id": "I1vT0WpZBo5A"
      }
    },
    {
      "cell_type": "markdown",
      "source": [
        "* This is done by list  \n",
        "\n",
        "\n"
      ],
      "metadata": {
        "id": "2ioof6vaU5xe"
      }
    },
    {
      "cell_type": "code",
      "source": [
        "def isPrime(a):\n",
        "  f1= []\n",
        "  for i in range(1,a+1):\n",
        "    if a%i==0:\n",
        "      f1.append(i)\n",
        "  v = len(f1)\n",
        "  if v==2:\n",
        "    return True\n",
        "  else:\n",
        "    return False"
      ],
      "metadata": {
        "id": "MErQc9KzBWQt"
      },
      "execution_count": null,
      "outputs": []
    },
    {
      "cell_type": "markdown",
      "source": [
        "* This is done by loops"
      ],
      "metadata": {
        "id": "HuB9De2RVM3u"
      }
    },
    {
      "cell_type": "code",
      "source": [
        "import math\n",
        "def isPrime(a):\n",
        "  (result,i)= (True,2)\n",
        "  while (result and i<math.sqrt(a)):\n",
        "    if a%i==0:\n",
        "      result = False\n",
        "    i+=1\n",
        "  return result\n",
        "\n",
        "\n"
      ],
      "metadata": {
        "id": "A62X2xJ1VS0G"
      },
      "execution_count": null,
      "outputs": []
    },
    {
      "cell_type": "markdown",
      "source": [
        "##2.Find the number of primes upto m numbers"
      ],
      "metadata": {
        "id": "2TnW9UohCFz1"
      }
    },
    {
      "cell_type": "code",
      "source": [
        "def primeupto(m):\n",
        "  p1=[]\n",
        "  for i in range(1,m+1):\n",
        "    if isPrime(i):\n",
        "      p1.append(i)\n",
        "  return p1"
      ],
      "metadata": {
        "id": "9qKf_ybYtZ4P"
      },
      "execution_count": null,
      "outputs": []
    },
    {
      "cell_type": "markdown",
      "source": [
        "##3.First n prime numbers"
      ],
      "metadata": {
        "id": "stZaO5mquDcN"
      }
    },
    {
      "cell_type": "code",
      "source": [
        "def firstprimes(n):\n",
        "  (count,i,p1)=(0,1,[])\n",
        "  while (count<n):\n",
        "    if isPrime(i):\n",
        "      (count,p1)= (count+1,p1+[i])\n",
        "    i=i+1\n",
        "  return (p1)"
      ],
      "metadata": {
        "id": "dQEwYNkVuC1S"
      },
      "execution_count": null,
      "outputs": []
    },
    {
      "cell_type": "markdown",
      "source": [
        "## 4.Main function"
      ],
      "metadata": {
        "id": "gfg6BEpOu19U"
      }
    },
    {
      "cell_type": "code",
      "source": [
        "i = int(input(\"Enter a number: \"))\n",
        "v=  isPrime(i)\n",
        "if v:\n",
        "  print(f\"The number {i} is prime\")\n",
        "else:\n",
        "  print(f\"The number {i} is not prime\")\n",
        "l = primeupto(i)\n",
        "print(f\"The number of primes upto {i} is {l}\")\n",
        "z = firstprimes(i)\n",
        "print(f\"The first {i} prime numbers are {z}\")\n",
        "\n",
        "\n"
      ],
      "metadata": {
        "colab": {
          "base_uri": "https://localhost:8080/"
        },
        "id": "68jGshSivkWQ",
        "outputId": "b13c1278-509e-45dc-88d4-a49da4903f24"
      },
      "execution_count": null,
      "outputs": [
        {
          "output_type": "stream",
          "name": "stdout",
          "text": [
            "Enter a number: 6\n",
            "The number 6 is not prime\n",
            "The number of primes upto 6 is [1, 2, 3, 4, 5]\n",
            "The first 6 prime numbers are [1, 2, 3, 4, 5, 7]\n"
          ]
        }
      ]
    },
    {
      "cell_type": "markdown",
      "source": [
        "## Difference between primes in range"
      ],
      "metadata": {
        "id": "4VmctJLZd9Hr"
      }
    },
    {
      "cell_type": "code",
      "source": [
        "def difference(n):\n",
        "  lastprime=  2\n",
        "  pd = {}\n",
        "  for i in range(3,n+1):\n",
        "    if isPrime(i):\n",
        "      d = i-lastprime\n",
        "      lastprime = i\n",
        "      if d in pd.keys():\n",
        "        pd[d]=pd[d]+1\n",
        "      else:\n",
        "        pd[d]=1\n",
        "  return (pd)\n",
        "n = int(input(\"Enter the number: \"))\n",
        "l = difference(n)\n",
        "print(l)\n",
        "\n",
        "\n",
        "\n",
        "\n",
        "\n"
      ],
      "metadata": {
        "colab": {
          "base_uri": "https://localhost:8080/"
        },
        "id": "3ZW0GHSZdIsP",
        "outputId": "a0cb7e64-e1cc-4af0-b5fd-4bd2f10da561"
      },
      "execution_count": null,
      "outputs": [
        {
          "output_type": "stream",
          "name": "stdout",
          "text": [
            "Enter the number: 45\n",
            "{1: 3, 2: 8, 4: 4, 6: 1}\n"
          ]
        }
      ]
    },
    {
      "cell_type": "markdown",
      "source": [
        "# Exception handling"
      ],
      "metadata": {
        "id": "_iAJP0nDy2wa"
      }
    },
    {
      "cell_type": "markdown",
      "source": [
        "## Function code"
      ],
      "metadata": {
        "id": "fFBm-DaPc0J9"
      }
    },
    {
      "cell_type": "code",
      "source": [
        "def divide_numbers(a, b):\n",
        "    try:\n",
        "        result = a / b\n",
        "        print(f\"The result of {a} divided by {b} is: {result}\")\n",
        "    except ZeroDivisionError:\n",
        "        print(\"Error: Division by zero is not allowed.\")\n",
        "    except TypeError as e:\n",
        "        print(f\"Error: {e}\")\n",
        "    except Exception as e:\n",
        "        print(f\"An unexpected error occurred: {e}\")\n",
        "    else:\n",
        "        print(\"Division operation completed successfully.\")\n",
        "    finally:\n",
        "        print(\"This block always executes, regardless of whether an exception occurred or not.\")\n"
      ],
      "metadata": {
        "id": "2NypcIs6y8Wb"
      },
      "execution_count": null,
      "outputs": []
    },
    {
      "cell_type": "markdown",
      "source": [
        "\n",
        "The try block contains the code that might raise an exception, in this case, division by zero or a type error.\n",
        "\n",
        "\n",
        "```\n",
        "try:\n",
        "        result = a / b\n",
        "        print(f\"The result of {a} divided by {b} is: {result}\")\n",
        "```\n",
        "\n",
        "\n",
        "\n",
        "The except block is used to catch specific exceptions:\n",
        "ZeroDivisionError: Handles division by zero.\n",
        "\n",
        "\n",
        "```\n",
        "except ZeroDivisionError:\n",
        "        print(\"Error: Division by zero is not allowed.\")\n",
        "\n",
        "```\n",
        "\n",
        "\n",
        "TypeError: Handles type-related errors.\n",
        "\n",
        "\n",
        "```\n",
        "except TypeError as e:\n",
        "        print(f\"Error: {e}\")\n",
        "```\n",
        "\n",
        "\n",
        "Exception: Catches any other unexpected exceptions.\n",
        "\n",
        "\n",
        "```\n",
        "except Exception as e:\n",
        "        print(f\"An unexpected error occurred: {e}\")\n",
        "```\n",
        "\n",
        "\n",
        "The else block is executed if no exception occurs in the try block.\n",
        "\n",
        "\n",
        "```\n",
        "else:\n",
        "        print(\"Division operation completed successfully.\")\n",
        "```\n",
        "\n",
        "\n",
        "The finally block always executes, regardless of whether an exception occurred or not. It's commonly used for cleanup operations.\n",
        "\n",
        "\n",
        "```\n",
        "finally:\n",
        "        print(\"This block always executes, regardless of whether an exception occurred or not.\")\n",
        "\n",
        "```\n",
        "\n",
        "\n"
      ],
      "metadata": {
        "id": "BaaCMH_nbhj1"
      }
    },
    {
      "cell_type": "markdown",
      "source": [
        "## Main code"
      ],
      "metadata": {
        "id": "p4jrByaLc7VN"
      }
    },
    {
      "cell_type": "code",
      "source": [
        "try:\n",
        "    num1 = float(input(\"Enter the numerator: \"))\n",
        "    num2 = float(input(\"Enter the denominator: \"))\n",
        "    divide_numbers(num1, num2)\n",
        "except ValueError:\n",
        "    print(\"Error: Please enter valid numeric values for the numerator and denominator.\")\n",
        "except KeyboardInterrupt:\n",
        "    print(\"\\nUser interrupted the program.\")\n",
        "finally:\n",
        "    print(\"Program execution completed.\")"
      ],
      "metadata": {
        "id": "enPce1GmdGu1"
      },
      "execution_count": null,
      "outputs": []
    },
    {
      "cell_type": "markdown",
      "source": [
        "The try block in the example takes user input for the numerator and denominator and attempts to call the divide_numbers function.\n",
        "\n",
        "\n",
        "```\n",
        "try:\n",
        "    num1 = float(input(\"Enter the numerator: \"))\n",
        "    num2 = float(input(\"Enter the denominator: \"))\n",
        "    divide_numbers(num1, num2)\n",
        "```\n",
        "The except blocks catch specific exceptions (ValueError for invalid input, KeyboardInterrupt for user interruption).\n",
        "\n",
        "\n",
        "```\n",
        "except ValueError:\n",
        "    print(\"Error: Please enter valid numeric values for the numerator and denominator.\")\n",
        "except KeyboardInterrupt:\n",
        "    print(\"\\nUser interrupted the program.\")\n",
        "```\n",
        "The finally block always executes, providing a message indicating the completion of the program.\n",
        "\n",
        "\n",
        "```\n",
        "finally:\n",
        "    print(\"Program execution completed.\")\n",
        "```\n",
        "\n",
        "\n",
        "\n"
      ],
      "metadata": {
        "id": "oHKqEJppdLed"
      }
    },
    {
      "cell_type": "markdown",
      "source": [
        "# Abstract data type (ADT)\n"
      ],
      "metadata": {
        "id": "PbO9gJGFV1pC"
      }
    },
    {
      "cell_type": "markdown",
      "source": [
        "## Features--\n",
        "\n",
        "*   Stores some information\n",
        "*   Designated functions to maniputlate the information\n",
        "* eg- Stack,Queue\n",
        "* Seperate the implementation for the specification\n",
        "* We use classes for creating an abstract data type\n"
      ],
      "metadata": {
        "id": "f4wZZVPCe1R7"
      }
    },
    {
      "cell_type": "markdown",
      "source": [
        "\n",
        "\n",
        "  ## Using class for creating an ADT\n",
        "\n",
        "```\n",
        "class Point:\n",
        "  def __intit__(self,a=0,b=0):\n",
        "    self.x= a\n",
        "    self.y = b\n",
        "\n",
        "```\n",
        "In the above example:--\n",
        "* A point has coordinates x,y\n",
        "* **__init__()** intitalizes the internal values x,y\n",
        "* First parameter is always self\n",
        "* Here by default a point is at (0,0)\n",
        "\n",
        "\n",
        "```\n",
        "def translate(self,deltax ,delta y):\n",
        "  self.x+=deltax\n",
        "  self.y+= deltay\n",
        "```\n",
        "Above example--\n",
        "* In the above example we shift the point **x** and **y** by  `deltax, deltay` respectively\n",
        "       (x,y)---> (x+deltax , y+deltay)\n",
        "\n",
        "\n",
        "\n",
        "```\n",
        "def distance(self):\n",
        "  import math\n",
        "  d = math.sqrt(self.x*self.x + self.y*self.y)\n",
        "  return d\n",
        "\n",
        "```\n",
        "In the above example ---\n",
        "* Distance form the origin\n",
        "\n",
        "        `d= (x^2+y^2)^1/2`\n",
        "\n",
        "\n",
        "## Polar coordinates\n",
        "We represent polar coordinates by r=(a^2+b^2)^1/2 and theta = tan^-1(b/a)\n",
        "```\n",
        "import math\n",
        "class Point:\n",
        "    def __init__(self,a=0,b=0):\n",
        "        self.r=  math.sqrt(self.x*self.x+self.y*self.y)\n",
        "        if a==0:\n",
        "            self.theta= math.pi/2\n",
        "        else:\n",
        "            self.theta = math.atan(b/a)\n",
        "\n",
        "```\n",
        "In the above code we define `self.r` and `self.theta` which is used by the polar coordinates. It is initailised by (0,0) point.\n",
        "\n",
        "\n",
        "```\n",
        "def distance(self):\n",
        "    return(self.r)\n",
        "```\n",
        "Above returns the distance of the point form the origin which is nothing but the value r\n",
        "\n",
        "\n",
        "\n",
        "\n",
        "\n",
        "\n",
        "\n",
        "\n",
        "\n",
        "\n",
        "\n",
        "\n",
        "\n",
        "\n"
      ],
      "metadata": {
        "id": "uRAmb2reV7tS"
      }
    },
    {
      "cell_type": "markdown",
      "source": [
        "# Timing of python codes"
      ],
      "metadata": {
        "id": "TsA0swwgP9KG"
      }
    },
    {
      "cell_type": "markdown",
      "source": [
        " * Python has a **Time Library** which has various useful functions\n",
        " * **perf_time()** is a performance counter\n",
        "      * Absolute value of **perf_time()** is not meaningful\n",
        "      * Comapre two consecutive reading to fet an interval\n",
        "      * Default unit in seconds\n",
        "\n",
        "\n",
        "```\n",
        "import time\n",
        "start = time.perf_counter()\n",
        "end = time.perf_counter()\n",
        "time taken= end - start\n",
        "```\n",
        "\n",
        "\n"
      ],
      "metadata": {
        "id": "ACQk5R_QSn1f"
      }
    },
    {
      "cell_type": "markdown",
      "source": [
        "## Timer Object"
      ],
      "metadata": {
        "id": "6SUdvR3kUWH6"
      }
    },
    {
      "cell_type": "markdown",
      "source": [
        "* Create a timer class with two internal values\n",
        "      __start__time\n",
        "      __elapsed__time\n",
        "* **start** starts the timer\n",
        "* **stop** recrds the elapsed time\n",
        "\n",
        "\n",
        "```\n",
        "import time\n",
        "class Timer:\n",
        "    def __init__(self):\n",
        "        self.__start__time= 0\n",
        "        self.__elapsed__time=0\n",
        "    def start(self):\n",
        "        self.__start__time = time.perf_counter()\n",
        "    def stop(self):\n",
        "        self.__elapsed__time=  time.perf_counter() - self.__start__time()\n",
        "    def elapsed():\n",
        "        return (self.__elapsed__time)\n",
        "```\n",
        "\n",
        "\n"
      ],
      "metadata": {
        "id": "b3riJWmQUcBD"
      }
    },
    {
      "cell_type": "markdown",
      "source": [
        "## Timing Code"
      ],
      "metadata": {
        "id": "Th1gnFLPhI3_"
      }
    },
    {
      "cell_type": "code",
      "source": [
        "import time\n",
        "# Class of time is created\n",
        "class TimerError(Exception):\n",
        "  \"\"\"used to repoert errors\"\"\"\n",
        "\n",
        "class Timer:\n",
        "  def __init__(self):\n",
        "    self._start_time = None\n",
        "    self._elapsed_time = None\n",
        "  def start(self):\n",
        "    #Start a new timer\n",
        "    if self._start_time is not None:\n",
        "      raise TimeError(\"Timer is running already. use .stop()to stop it\")\n",
        "    self._start_time = time.perf_counter()\n",
        "  def stop(self):\n",
        "    #Save the elapsed time and reinitialize the timer\n",
        "    if self._start_time is None:\n",
        "      raise TimeError(\"Timer is not running. use .start() to start it\")\n",
        "    self._elapsed_time = time.perf_counter()-self._start_time\n",
        "    self._start_time = None\n",
        "  def elapsed(self):\n",
        "    #Report elapsd time\n",
        "    if self._elapsed_time is None:\n",
        "      raise TimeError(\"Timer has not been run yet. use .start()\")\n",
        "    return (self._elapsed_time)\n",
        "  def __str__(self):\n",
        "    return (str(self._elapsed_time))\n",
        "\n",
        "t=  Timer()\n",
        "for j in range(4,9):\n",
        "  t.start()\n",
        "  n=0\n",
        "  for i in range(10**j):\n",
        "    n = n+i\n",
        "  t.stop()\n",
        "  print(j,t)\n",
        "\n",
        "\n",
        "\n"
      ],
      "metadata": {
        "id": "od1nN5g4hOK5",
        "colab": {
          "base_uri": "https://localhost:8080/"
        },
        "outputId": "c3ced8b0-5816-439c-b583-43e8f1109881"
      },
      "execution_count": null,
      "outputs": [
        {
          "output_type": "stream",
          "name": "stdout",
          "text": [
            "4 0.0021845640000037747\n",
            "5 0.027651603000009572\n",
            "6 0.17345805899998368\n",
            "7 1.8663203340000223\n",
            "8 15.46973196800002\n"
          ]
        }
      ]
    }
  ]
}